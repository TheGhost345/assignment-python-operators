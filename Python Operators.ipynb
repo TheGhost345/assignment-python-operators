{
 "cells": [
  {
   "cell_type": "markdown",
   "id": "1d927fc3-9604-4800-8c24-582663126ea1",
   "metadata": {},
   "source": [
    "1. Calculate the sum, difference, product, and quotient of two numbers."
   ]
  },
  {
   "cell_type": "code",
   "execution_count": 1,
   "id": "05e9c098-f5f9-4dc7-bbd1-4ce73d4c040c",
   "metadata": {},
   "outputs": [
    {
     "name": "stdout",
     "output_type": "stream",
     "text": [
      "Sum: 15\n",
      "Difference: 5\n",
      "Product: 50\n",
      "Quotient: 2.0\n"
     ]
    }
   ],
   "source": [
    "a = 10\n",
    "b = 5\n",
    "\n",
    "s = a + b\n",
    "d = a - b\n",
    "p = a * b\n",
    "q = a / b if b != 0 else \"Division by zero is undefined\"\n",
    "\n",
    "print(f\"Sum: {s}\")\n",
    "print(f\"Difference: {d}\")\n",
    "print(f\"Product: {p}\")\n",
    "print(f\"Quotient: {q}\")"
   ]
  },
  {
   "cell_type": "markdown",
   "id": "18842110-61b9-49fa-b5a6-221313457082",
   "metadata": {},
   "source": [
    "2. Perform various assignment operations on a variable."
   ]
  },
  {
   "cell_type": "code",
   "execution_count": 3,
   "id": "e55389e9-238f-45f2-9197-bd602fcea845",
   "metadata": {},
   "outputs": [
    {
     "name": "stdout",
     "output_type": "stream",
     "text": [
      "Initial value: 10\n",
      "After addition assignment: 15\n",
      "After subtraction assignment: 12\n",
      "After multiplication assignment: 24\n",
      "After division assignment: 6.0\n",
      "After exponentiation assignment: 36.0\n",
      "After floor division assignment: 7.0\n",
      "After modulo assignment: 1.0\n"
     ]
    }
   ],
   "source": [
    "x = 10\n",
    "print(f\"Initial value: {x}\")\n",
    "\n",
    "x += 5\n",
    "print(f\"After addition assignment: {x}\")\n",
    "\n",
    "x -= 3\n",
    "print(f\"After subtraction assignment: {x}\")\n",
    "\n",
    "x *= 2\n",
    "print(f\"After multiplication assignment: {x}\")\n",
    "\n",
    "x /= 4\n",
    "print(f\"After division assignment: {x}\")\n",
    "\n",
    "x **= 2\n",
    "print(f\"After exponentiation assignment: {x}\")\n",
    "\n",
    "x //= 5\n",
    "print(f\"After floor division assignment: {x}\")\n",
    "\n",
    "x %= 3\n",
    "print(f\"After modulo assignment: {x}\")"
   ]
  },
  {
   "cell_type": "markdown",
   "id": "74ea6ad6-622e-4583-8eb3-6bd30e69d527",
   "metadata": {},
   "source": [
    "3. Compare two numbers and print the results."
   ]
  },
  {
   "cell_type": "code",
   "execution_count": 4,
   "id": "ee4a8c70-494a-4e45-9abf-a3ff60ef7bc0",
   "metadata": {},
   "outputs": [
    {
     "name": "stdout",
     "output_type": "stream",
     "text": [
      "15 is greater than 10\n"
     ]
    }
   ],
   "source": [
    "num1 = 15\n",
    "num2 = 10\n",
    "\n",
    "if num1 > num2:\n",
    "    print(f\"{num1} is greater than {num2}\")\n",
    "elif num1 < num2:\n",
    "    print(f\"{num1} is less than {num2}\")\n",
    "else:\n",
    "    print(f\"{num1} is equal to {num2}\")\n"
   ]
  },
  {
   "cell_type": "markdown",
   "id": "7927c7a8-5ef2-47bc-8103-6f7d32a1096f",
   "metadata": {},
   "source": [
    "4. Check conditions using logical operators."
   ]
  },
  {
   "cell_type": "code",
   "execution_count": 5,
   "id": "374caddf-ffab-484b-8445-da5a139107f8",
   "metadata": {},
   "outputs": [
    {
     "name": "stdout",
     "output_type": "stream",
     "text": [
      "Logical AND Result: True\n",
      "Logical OR Result: True\n",
      "Logical NOT Result: True\n"
     ]
    }
   ],
   "source": [
    "num1 = 15\n",
    "num2 = 7\n",
    "\n",
    "condition_and = (num1 > 10) and (num2 < 10)\n",
    "\n",
    "condition_or = (num1 > 10) or (num2 < 10)\n",
    "\n",
    "condition_not = not (num1 == num2)\n",
    "\n",
    "print(f\"Logical AND Result: {condition_and}\")\n",
    "print(f\"Logical OR Result: {condition_or}\")\n",
    "print(f\"Logical NOT Result: {condition_not}\")\n"
   ]
  },
  {
   "cell_type": "markdown",
   "id": "b723378c-5c0b-41bb-87ea-98c67e0d2f46",
   "metadata": {},
   "source": [
    "5. Check the identity of variables."
   ]
  },
  {
   "cell_type": "code",
   "execution_count": 10,
   "id": "5e7476e6-1c17-4228-ba01-8e632f83a424",
   "metadata": {},
   "outputs": [
    {
     "name": "stdout",
     "output_type": "stream",
     "text": [
      "Identity Check 1: True\n",
      "Identity Check 2: False\n",
      "Identity Check 3: True\n"
     ]
    }
   ],
   "source": [
    "v1 = 42\n",
    "v2 = 42\n",
    "v3 = 10\n",
    "v4 = 20\n",
    "\n",
    "id_check1 = v1 is v2\n",
    "id_check2 = v1 is v3\n",
    "id_check3 = v3 is not v4\n",
    "\n",
    "print(f\"Identity Check 1: {id_check1}\")\n",
    "print(f\"Identity Check 2: {id_check2}\")\n",
    "print(f\"Identity Check 3: {id_check3}\")"
   ]
  },
  {
   "cell_type": "markdown",
   "id": "50d08616-9901-4eac-97ec-23534109263e",
   "metadata": {},
   "source": [
    "6. Perform bitwise operations on any two integers."
   ]
  },
  {
   "cell_type": "code",
   "execution_count": 11,
   "id": "61afb072-a136-48ef-bca4-453713786fb7",
   "metadata": {},
   "outputs": [
    {
     "name": "stdout",
     "output_type": "stream",
     "text": [
      "Bitwise AND Result: 4\n",
      "Bitwise OR Result: 15\n",
      "Bitwise XOR Result: 11\n",
      "Bitwise NOT Result (n1): -8\n",
      "Bitwise NOT Result (n2): -8\n",
      "Left Shift Result (n1): 48\n",
      "Right Shift Result (n2): 3\n"
     ]
    }
   ],
   "source": [
    "n1 = 12\n",
    "n2 = 7\n",
    "\n",
    "andr = n1 & n2\n",
    "orr = n1 | n2\n",
    "xorr = n1 ^ n2\n",
    "notr = ~n1\n",
    "notr = ~n2\n",
    "leftr = n1 << 2\n",
    "rightr = n2 >> 1\n",
    "\n",
    "print(f\"Bitwise AND Result: {andr}\")\n",
    "print(f\"Bitwise OR Result: {orr}\")\n",
    "print(f\"Bitwise XOR Result: {xorr}\")\n",
    "print(f\"Bitwise NOT Result (n1): {notr}\")\n",
    "print(f\"Bitwise NOT Result (n2): {notr}\")\n",
    "print(f\"Left Shift Result (n1): {leftr}\")\n",
    "print(f\"Right Shift Result (n2): {rightr}\")"
   ]
  },
  {
   "cell_type": "markdown",
   "id": "b4c44e51-6097-482f-af93-30efd488ad70",
   "metadata": {},
   "source": [
    "7. Use unary operators to change the sign of a number."
   ]
  },
  {
   "cell_type": "code",
   "execution_count": 12,
   "id": "ff6d0309-aacf-4ad6-8fa2-c2781e8d65bc",
   "metadata": {},
   "outputs": [
    {
     "name": "stdout",
     "output_type": "stream",
     "text": [
      "Original Number: 10\n",
      "Negative Number: -10\n",
      "Positive Number: 10\n"
     ]
    }
   ],
   "source": [
    "on = 10\n",
    "nn = -on\n",
    "pn = +on\n",
    "\n",
    "print(f\"Original Number: {on}\")\n",
    "print(f\"Negative Number: {nn}\")\n",
    "print(f\"Positive Number: {pn}\")"
   ]
  },
  {
   "cell_type": "markdown",
   "id": "9bb445a4-529d-4785-9bdf-9bd8bace5864",
   "metadata": {},
   "source": [
    "8. use the ternary operator to assign values based on conditions."
   ]
  },
  {
   "cell_type": "code",
   "execution_count": 14,
   "id": "05f81490-7914-4627-a184-c13292e5e6f8",
   "metadata": {},
   "outputs": [
    {
     "name": "stdout",
     "output_type": "stream",
     "text": [
      "Max Value: 15\n",
      "Equal Check: False\n"
     ]
    }
   ],
   "source": [
    "n1 = 15\n",
    "n2 = 7\n",
    "\n",
    "max_val = n1 if n1 > n2 else n2\n",
    "equal_chk = True if n1 == n2 else False\n",
    "\n",
    "print(f\"Max Value: {max_val}\")\n",
    "print(f\"Equal Check: {equal_chk}\")"
   ]
  }
 ],
 "metadata": {
  "kernelspec": {
   "display_name": "Python 3 (ipykernel)",
   "language": "python",
   "name": "python3"
  },
  "language_info": {
   "codemirror_mode": {
    "name": "ipython",
    "version": 3
   },
   "file_extension": ".py",
   "mimetype": "text/x-python",
   "name": "python",
   "nbconvert_exporter": "python",
   "pygments_lexer": "ipython3",
   "version": "3.10.8"
  }
 },
 "nbformat": 4,
 "nbformat_minor": 5
}
